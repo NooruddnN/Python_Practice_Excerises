{
 "cells": [
  {
   "cell_type": "code",
   "execution_count": 10,
   "id": "ef800a00",
   "metadata": {},
   "outputs": [],
   "source": [
    "def display(x):\n",
    "    x=input(\"Please Enter Value\")\n",
    "    print (x)\n",
    "    \n"
   ]
  },
  {
   "cell_type": "code",
   "execution_count": 15,
   "id": "795820ce",
   "metadata": {},
   "outputs": [
    {
     "name": "stdout",
     "output_type": "stream",
     "text": [
      "Please Enter Value5\n",
      "5\n"
     ]
    }
   ],
   "source": [
    "display(2)"
   ]
  },
  {
   "cell_type": "code",
   "execution_count": 21,
   "id": "5e17c4a3",
   "metadata": {},
   "outputs": [
    {
     "name": "stdout",
     "output_type": "stream",
     "text": [
      "No Eligible\n"
     ]
    }
   ],
   "source": [
    "def age_valdiator(age,req):\n",
    "    if age>req:\n",
    "        print (\"Eligible\")\n",
    "    elif age<req:\n",
    "        print (\"No Eligible\")\n",
    "    else:\n",
    "        print (\"Don't know\")\n",
    "\n",
    "age_valdiator(2,4)"
   ]
  },
  {
   "cell_type": "code",
   "execution_count": 22,
   "id": "35f532c4",
   "metadata": {},
   "outputs": [
    {
     "name": "stdout",
     "output_type": "stream",
     "text": [
      "38\n"
     ]
    }
   ],
   "source": [
    "def future_age(age):\n",
    "    new_age=age+20\n",
    "    return new_age\n",
    "    print (new_age)\n",
    "\n",
    "predict_age=future_age(18)\n",
    "print(predict_age)"
   ]
  },
  {
   "cell_type": "code",
   "execution_count": null,
   "id": "7bf872ae",
   "metadata": {},
   "outputs": [],
   "source": []
  }
 ],
 "metadata": {
  "kernelspec": {
   "display_name": "Python 3",
   "language": "python",
   "name": "python3"
  },
  "language_info": {
   "codemirror_mode": {
    "name": "ipython",
    "version": 3
   },
   "file_extension": ".py",
   "mimetype": "text/x-python",
   "name": "python",
   "nbconvert_exporter": "python",
   "pygments_lexer": "ipython3",
   "version": "3.8.8"
  }
 },
 "nbformat": 4,
 "nbformat_minor": 5
}
