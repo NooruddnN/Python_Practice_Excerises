{
 "cells": [
  {
   "cell_type": "code",
   "execution_count": 8,
   "id": "e621d7bf",
   "metadata": {},
   "outputs": [
    {
     "name": "stdout",
     "output_type": "stream",
     "text": [
      "Hi\n"
     ]
    }
   ],
   "source": [
    "x = 5\n",
    "y = 3\n",
    "\n",
    "\n",
    "if x<=y:\n",
    "    print (\"Eigbile\")\n",
    "elif x>=y:\n",
    "    print (\"Hi\")\n",
    "\n",
    "else:\n",
    "    print (\"Not Eligbile\")"
   ]
  },
  {
   "cell_type": "code",
   "execution_count": null,
   "id": "db69b085",
   "metadata": {},
   "outputs": [],
   "source": []
  }
 ],
 "metadata": {
  "kernelspec": {
   "display_name": "Python 3",
   "language": "python",
   "name": "python3"
  },
  "language_info": {
   "codemirror_mode": {
    "name": "ipython",
    "version": 3
   },
   "file_extension": ".py",
   "mimetype": "text/x-python",
   "name": "python",
   "nbconvert_exporter": "python",
   "pygments_lexer": "ipython3",
   "version": "3.8.8"
  }
 },
 "nbformat": 4,
 "nbformat_minor": 5
}
