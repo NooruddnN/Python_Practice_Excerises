{
 "cells": [
  {
   "cell_type": "code",
   "execution_count": 1,
   "id": "b0229404",
   "metadata": {},
   "outputs": [
    {
     "name": "stdout",
     "output_type": "stream",
     "text": [
      "Hello2\n",
      "2\n"
     ]
    }
   ],
   "source": [
    "x= input (\"Hello\")\n",
    "print (x)"
   ]
  },
  {
   "cell_type": "code",
   "execution_count": 2,
   "id": "e074a9f2",
   "metadata": {},
   "outputs": [
    {
     "name": "stdout",
     "output_type": "stream",
     "text": [
      "What is your nameNooruddin\n",
      "Hello,  Nooruddin\n"
     ]
    }
   ],
   "source": [
    "name = input (\"What is your name\")\n",
    "greetings= \"Hello, \"\n",
    "\n",
    "print (greetings, name)"
   ]
  },
  {
   "cell_type": "code",
   "execution_count": null,
   "id": "f49895d9",
   "metadata": {},
   "outputs": [],
   "source": []
  }
 ],
 "metadata": {
  "kernelspec": {
   "display_name": "Python 3",
   "language": "python",
   "name": "python3"
  },
  "language_info": {
   "codemirror_mode": {
    "name": "ipython",
    "version": 3
   },
   "file_extension": ".py",
   "mimetype": "text/x-python",
   "name": "python",
   "nbconvert_exporter": "python",
   "pygments_lexer": "ipython3",
   "version": "3.8.8"
  }
 },
 "nbformat": 4,
 "nbformat_minor": 5
}
