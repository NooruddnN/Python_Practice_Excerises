{
 "cells": [
  {
   "cell_type": "code",
   "execution_count": 10,
   "id": "a0f31711",
   "metadata": {},
   "outputs": [
    {
     "name": "stdout",
     "output_type": "stream",
     "text": [
      "What is your height1.75\n"
     ]
    }
   ],
   "source": [
    "# BMI Calculator\n",
    "height= input(\"What is your height\")"
   ]
  },
  {
   "cell_type": "code",
   "execution_count": 11,
   "id": "d5381368",
   "metadata": {},
   "outputs": [
    {
     "name": "stdout",
     "output_type": "stream",
     "text": [
      "What is your weight88\n"
     ]
    }
   ],
   "source": [
    "weight= input(\"What is your weight\")\n"
   ]
  },
  {
   "cell_type": "code",
   "execution_count": 12,
   "id": "e6567da1",
   "metadata": {},
   "outputs": [
    {
     "name": "stdout",
     "output_type": "stream",
     "text": [
      "What is NameNoor\n"
     ]
    }
   ],
   "source": [
    "name = input(\"What is Name\")"
   ]
  },
  {
   "cell_type": "code",
   "execution_count": 13,
   "id": "438b56fe",
   "metadata": {},
   "outputs": [],
   "source": [
    "BMI= int(weight)/float(height)**2"
   ]
  },
  {
   "cell_type": "code",
   "execution_count": 14,
   "id": "acdba552",
   "metadata": {},
   "outputs": [
    {
     "data": {
      "text/plain": [
       "28.73469387755102"
      ]
     },
     "execution_count": 14,
     "metadata": {},
     "output_type": "execute_result"
    }
   ],
   "source": [
    "BMI"
   ]
  },
  {
   "cell_type": "code",
   "execution_count": 15,
   "id": "700c80f3",
   "metadata": {},
   "outputs": [
    {
     "name": "stdout",
     "output_type": "stream",
     "text": [
      "My Name is  Noor My BMI is  28.73469387755102\n"
     ]
    }
   ],
   "source": [
    "print(\"My Name is \",name, \"My BMI is \", BMI)"
   ]
  },
  {
   "cell_type": "code",
   "execution_count": null,
   "id": "c38a9ad3",
   "metadata": {},
   "outputs": [],
   "source": []
  }
 ],
 "metadata": {
  "kernelspec": {
   "display_name": "Python 3",
   "language": "python",
   "name": "python3"
  },
  "language_info": {
   "codemirror_mode": {
    "name": "ipython",
    "version": 3
   },
   "file_extension": ".py",
   "mimetype": "text/x-python",
   "name": "python",
   "nbconvert_exporter": "python",
   "pygments_lexer": "ipython3",
   "version": "3.8.8"
  }
 },
 "nbformat": 4,
 "nbformat_minor": 5
}
