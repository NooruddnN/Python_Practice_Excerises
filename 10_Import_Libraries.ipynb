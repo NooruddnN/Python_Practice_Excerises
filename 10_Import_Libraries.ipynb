{
 "cells": [
  {
   "cell_type": "code",
   "execution_count": 1,
   "id": "b0e10135",
   "metadata": {},
   "outputs": [
    {
     "name": "stdout",
     "output_type": "stream",
     "text": [
      "Fun 3.141592653589793\n"
     ]
    }
   ],
   "source": [
    "import math\n",
    "print(\"Fun\", math.pi)"
   ]
  },
  {
   "cell_type": "code",
   "execution_count": 3,
   "id": "65059f29",
   "metadata": {},
   "outputs": [
    {
     "name": "stdout",
     "output_type": "stream",
     "text": [
      "3\n"
     ]
    }
   ],
   "source": [
    "import statistics\n",
    "\n",
    "arr=[1,2,3,4,5]\n",
    "\n",
    "print(statistics.mean(arr))"
   ]
  },
  {
   "cell_type": "code",
   "execution_count": 4,
   "id": "132cc9e6",
   "metadata": {},
   "outputs": [
    {
     "name": "stdout",
     "output_type": "stream",
     "text": [
      "3\n"
     ]
    }
   ],
   "source": [
    "print(statistics.median(arr))"
   ]
  },
  {
   "cell_type": "code",
   "execution_count": null,
   "id": "057d910d",
   "metadata": {},
   "outputs": [],
   "source": []
  }
 ],
 "metadata": {
  "kernelspec": {
   "display_name": "Python 3",
   "language": "python",
   "name": "python3"
  },
  "language_info": {
   "codemirror_mode": {
    "name": "ipython",
    "version": 3
   },
   "file_extension": ".py",
   "mimetype": "text/x-python",
   "name": "python",
   "nbconvert_exporter": "python",
   "pygments_lexer": "ipython3",
   "version": "3.8.8"
  }
 },
 "nbformat": 4,
 "nbformat_minor": 5
}
